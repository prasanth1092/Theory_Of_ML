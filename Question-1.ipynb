{
 "cells": [
  {
   "cell_type": "markdown",
   "id": "8c4a4310",
   "metadata": {},
   "source": [
    "**Runnning of Gradient descent**"
   ]
  },
  {
   "cell_type": "code",
   "execution_count": 1,
   "id": "40a12215",
   "metadata": {},
   "outputs": [],
   "source": [
    "def gradient_descent(start, learning_rate,iterations, data):\n",
    "    weight = start\n",
    "    print(\"Starting Loss:\", loss(weight, data))\n",
    "    for i in range(iterations):\n",
    "        weight =weight-learning_rate * gradient(weight, data) \n",
    "        print(\"loss at \"+str(i)+\"th iteration \" +str(loss(weight, data)))\n",
    "    return weight\n",
    "\n",
    "def gradient(w, data):\n",
    "    grad = 0\n",
    "    for point in data:\n",
    "        x = point[0]\n",
    "        y = point[1]\n",
    "        grad += (-1 * x * y) * math.exp(-1 * x * y * w) / (1+math.exp(-1 * x * y * w))\n",
    "    return grad"
   ]
  },
  {
   "cell_type": "markdown",
   "id": "e9b7ff1a",
   "metadata": {},
   "source": [
    "**Finding Loss**"
   ]
  },
  {
   "cell_type": "code",
   "execution_count": 2,
   "id": "9ebbf831",
   "metadata": {},
   "outputs": [],
   "source": [
    "def loss(w, data):\n",
    "    loss = 0\n",
    "    for point in data:\n",
    "        x = point[0]\n",
    "        y = point[1]\n",
    "        loss += math.log(1 + math.exp(-1 * x * y * w))\n",
    "    return loss"
   ]
  },
  {
   "cell_type": "markdown",
   "id": "bfe54936",
   "metadata": {},
   "source": [
    "**Creating Normal Data**"
   ]
  },
  {
   "cell_type": "code",
   "execution_count": 3,
   "id": "d357ecb9",
   "metadata": {},
   "outputs": [],
   "source": [
    "import math\n",
    "norm_data = []\n",
    "for i in range(-50, 0):\n",
    "    point = (i, -1)\n",
    "    norm_data.append(point)\n",
    "    point = (-i, 1)\n",
    "norm_data.append(point)"
   ]
  },
  {
   "cell_type": "markdown",
   "id": "95e4d139",
   "metadata": {},
   "source": [
    "**Calling the Gradient Descent for Normal Data**"
   ]
  },
  {
   "cell_type": "code",
   "execution_count": 4,
   "id": "d8a3aca8",
   "metadata": {},
   "outputs": [
    {
     "name": "stdout",
     "output_type": "stream",
     "text": [
      "Starting Loss: 1276.8308217946535\n",
      "loss at 0th iteration 1114.297957395495\n",
      "loss at 1th iteration 951.8457577917824\n",
      "loss at 2th iteration 789.5182459605015\n",
      "loss at 3th iteration 627.4022622123033\n",
      "loss at 4th iteration 465.6972983817964\n",
      "loss at 5th iteration 304.98979451985855\n",
      "loss at 6th iteration 148.11548572958336\n",
      "loss at 7th iteration 28.999250942803513\n",
      "loss at 8th iteration 12.692245476191566\n",
      "loss at 9th iteration 10.420949513833683\n",
      "loss at 10th iteration 9.214838286700667\n",
      "loss at 11th iteration 8.426494895446197\n",
      "loss at 12th iteration 7.855369575157109\n",
      "loss at 13th iteration 7.41494752547564\n",
      "loss at 14th iteration 7.060697826586186\n",
      "loss at 15th iteration 6.766961406394758\n",
      "loss at 16th iteration 6.517735422044399\n",
      "loss at 17th iteration 6.3024339574032195\n",
      "loss at 18th iteration 6.113727350885955\n",
      "loss at 19th iteration 5.9463520161045755\n",
      "loss at 20th iteration 5.796413529530216\n",
      "loss at 21th iteration 5.660957856188496\n",
      "loss at 22th iteration 5.537696525037194\n",
      "loss at 23th iteration 5.424824301997622\n",
      "loss at 24th iteration 5.32089461425309\n",
      "loss at 25th iteration 5.22473223855462\n",
      "loss at 26th iteration 5.135370730562763\n",
      "loss at 27th iteration 5.0520066967930815\n",
      "loss at 28th iteration 4.973965788496045\n",
      "loss at 29th iteration 4.900677015759766\n",
      "loss at 30th iteration 4.831653072371257\n",
      "loss at 31th iteration 4.7664750726000635\n",
      "loss at 32th iteration 4.704780573346219\n",
      "loss at 33th iteration 4.646254075060838\n",
      "loss at 34th iteration 4.590619415446882\n",
      "loss at 35th iteration 4.537633624485775\n",
      "loss at 36th iteration 4.487081919191926\n",
      "loss at 37th iteration 4.438773595649915\n",
      "loss at 38th iteration 4.3925386336332926\n",
      "loss at 39th iteration 4.348224871718594\n",
      "loss at 40th iteration 4.305695642595694\n",
      "loss at 41th iteration 4.264827782224849\n",
      "loss at 42th iteration 4.225509944703181\n",
      "loss at 43th iteration 4.187641168674609\n",
      "loss at 44th iteration 4.151129651922906\n",
      "loss at 45th iteration 4.11589169920948\n",
      "loss at 46th iteration 4.081850815029191\n",
      "loss at 47th iteration 4.048936918183696\n",
      "loss at 48th iteration 4.017085659229524\n",
      "loss at 49th iteration 3.9862378251861434\n",
      "loss at 50th iteration 3.9563388185685966\n",
      "loss at 51th iteration 3.9273381999782773\n",
      "loss at 52th iteration 3.8991892852505003\n",
      "loss at 53th iteration 3.871848789601029\n",
      "loss at 54th iteration 3.845276512399849\n",
      "loss at 55th iteration 3.819435057179598\n",
      "loss at 56th iteration 3.794289582297709\n",
      "loss at 57th iteration 3.769807578346997\n",
      "loss at 58th iteration 3.7459586689740814\n",
      "loss at 59th iteration 3.722714432238741\n",
      "loss at 60th iteration 3.700048240046122\n",
      "loss at 61th iteration 3.6779351135207023\n",
      "loss at 62th iteration 3.6563515924765313\n",
      "loss at 63th iteration 3.635275617381202\n",
      "loss at 64th iteration 3.6146864224182726\n",
      "loss at 65th iteration 3.5945644384300994\n",
      "loss at 66th iteration 3.5748912046752723\n",
      "loss at 67th iteration 3.5556492884656614\n",
      "loss at 68th iteration 3.536822211861114\n",
      "loss at 69th iteration 3.518394384697457\n",
      "loss at 70th iteration 3.500351043308221\n",
      "loss at 71th iteration 3.4826781943740914\n",
      "loss at 72th iteration 3.465362563398261\n",
      "loss at 73th iteration 3.448391547361857\n",
      "loss at 74th iteration 3.431753171162625\n",
      "loss at 75th iteration 3.41543604748305\n",
      "loss at 76th iteration 3.3994293397718316\n",
      "loss at 77th iteration 3.3837227280559037\n",
      "loss at 78th iteration 3.368306377329527\n",
      "loss at 79th iteration 3.353170908292867\n",
      "loss at 80th iteration 3.33830737023548\n",
      "loss at 81th iteration 3.3237072158804297\n",
      "loss at 82th iteration 3.3093622780228777\n",
      "loss at 83th iteration 3.2952647478130883\n",
      "loss at 84th iteration 3.2814071545480923\n",
      "loss at 85th iteration 3.267782346849123\n",
      "loss at 86th iteration 3.2543834751133405\n",
      "loss at 87th iteration 3.2412039751386414\n",
      "loss at 88th iteration 3.228237552829521\n",
      "loss at 89th iteration 3.2154781699002606\n",
      "loss at 90th iteration 3.2029200304990706\n",
      "loss at 91th iteration 3.190557568683564\n",
      "loss at 92th iteration 3.1783854366839384\n",
      "loss at 93th iteration 3.1663984938956866\n",
      "loss at 94th iteration 3.154591796548579\n",
      "loss at 95th iteration 3.142960588003116\n",
      "loss at 96th iteration 3.131500289629676\n",
      "loss at 97th iteration 3.1202064922292494\n",
      "loss at 98th iteration 3.1090749479579536\n",
      "loss at 99th iteration 3.098101562720603\n",
      "final weights: 0.2863197697421517\n"
     ]
    }
   ],
   "source": [
    "w = gradient_descent(-1,0.0001,100,norm_data)\n",
    "print(\"final weights:\", w)"
   ]
  },
  {
   "cell_type": "markdown",
   "id": "843ac393",
   "metadata": {},
   "source": [
    "**Creating Corrupt Data**"
   ]
  },
  {
   "cell_type": "code",
   "execution_count": 5,
   "id": "47afa3bb",
   "metadata": {},
   "outputs": [],
   "source": [
    "curr_data= []\n",
    "for i in range(-50, -45):\n",
    "    point = (i, 1)\n",
    "    curr_data.append(point)\n",
    "    point = (-i, -1)\n",
    "    curr_data.append(point)\n",
    "for i in range(-45, 0):\n",
    "    point = (i, -1)\n",
    "    curr_data.append(point)\n",
    "    point = (-i, 1)\n",
    "    curr_data.append(point)"
   ]
  },
  {
   "cell_type": "markdown",
   "id": "aeeb3f89",
   "metadata": {},
   "source": [
    "**Calling the Gradient Descent for Corrupt Data**"
   ]
  },
  {
   "cell_type": "code",
   "execution_count": 6,
   "id": "76d06aff",
   "metadata": {},
   "outputs": [
    {
     "name": "stdout",
     "output_type": "stream",
     "text": [
      "Starting Loss: 2071.0351202142688\n",
      "loss at 0th iteration 1643.280110003809\n",
      "loss at 1th iteration 1216.0280714839787\n",
      "loss at 2th iteration 790.0188510127545\n",
      "loss at 3th iteration 368.9751391790776\n",
      "loss at 4th iteration 55.18977048675905\n",
      "loss at 5th iteration 53.23083146737823\n",
      "loss at 6th iteration 52.99046906395333\n",
      "loss at 7th iteration 52.99041643081455\n",
      "loss at 8th iteration 52.990415880131096\n",
      "loss at 9th iteration 52.99041587452638\n",
      "loss at 10th iteration 52.99041587446917\n",
      "loss at 11th iteration 52.99041587446855\n",
      "loss at 12th iteration 52.99041587446856\n",
      "loss at 13th iteration 52.99041587446857\n",
      "loss at 14th iteration 52.99041587446857\n",
      "loss at 15th iteration 52.990415874468574\n",
      "loss at 16th iteration 52.99041587446857\n",
      "loss at 17th iteration 52.99041587446858\n",
      "loss at 18th iteration 52.99041587446861\n",
      "loss at 19th iteration 52.99041587446861\n",
      "loss at 20th iteration 52.990415874468596\n",
      "loss at 21th iteration 52.990415874468596\n",
      "loss at 22th iteration 52.990415874468596\n",
      "loss at 23th iteration 52.990415874468596\n",
      "loss at 24th iteration 52.990415874468596\n",
      "loss at 25th iteration 52.990415874468596\n",
      "loss at 26th iteration 52.990415874468596\n",
      "loss at 27th iteration 52.990415874468596\n",
      "loss at 28th iteration 52.990415874468596\n",
      "loss at 29th iteration 52.990415874468596\n",
      "loss at 30th iteration 52.990415874468596\n",
      "loss at 31th iteration 52.990415874468596\n",
      "loss at 32th iteration 52.990415874468596\n",
      "loss at 33th iteration 52.990415874468596\n",
      "loss at 34th iteration 52.990415874468596\n",
      "loss at 35th iteration 52.990415874468596\n",
      "loss at 36th iteration 52.990415874468596\n",
      "loss at 37th iteration 52.990415874468596\n",
      "loss at 38th iteration 52.990415874468596\n",
      "loss at 39th iteration 52.990415874468596\n",
      "loss at 40th iteration 52.990415874468596\n",
      "loss at 41th iteration 52.990415874468596\n",
      "loss at 42th iteration 52.990415874468596\n",
      "loss at 43th iteration 52.990415874468596\n",
      "loss at 44th iteration 52.990415874468596\n",
      "loss at 45th iteration 52.990415874468596\n",
      "loss at 46th iteration 52.990415874468596\n",
      "loss at 47th iteration 52.990415874468596\n",
      "loss at 48th iteration 52.990415874468596\n",
      "loss at 49th iteration 52.990415874468596\n",
      "loss at 50th iteration 52.990415874468596\n",
      "loss at 51th iteration 52.990415874468596\n",
      "loss at 52th iteration 52.990415874468596\n",
      "loss at 53th iteration 52.990415874468596\n",
      "loss at 54th iteration 52.990415874468596\n",
      "loss at 55th iteration 52.990415874468596\n",
      "loss at 56th iteration 52.990415874468596\n",
      "loss at 57th iteration 52.990415874468596\n",
      "loss at 58th iteration 52.990415874468596\n",
      "loss at 59th iteration 52.990415874468596\n",
      "loss at 60th iteration 52.990415874468596\n",
      "loss at 61th iteration 52.990415874468596\n",
      "loss at 62th iteration 52.990415874468596\n",
      "loss at 63th iteration 52.990415874468596\n",
      "loss at 64th iteration 52.990415874468596\n",
      "loss at 65th iteration 52.990415874468596\n",
      "loss at 66th iteration 52.990415874468596\n",
      "loss at 67th iteration 52.990415874468596\n",
      "loss at 68th iteration 52.990415874468596\n",
      "loss at 69th iteration 52.990415874468596\n",
      "loss at 70th iteration 52.990415874468596\n",
      "loss at 71th iteration 52.990415874468596\n",
      "loss at 72th iteration 52.990415874468596\n",
      "loss at 73th iteration 52.990415874468596\n",
      "loss at 74th iteration 52.990415874468596\n",
      "loss at 75th iteration 52.990415874468596\n",
      "loss at 76th iteration 52.990415874468596\n",
      "loss at 77th iteration 52.990415874468596\n",
      "loss at 78th iteration 52.990415874468596\n",
      "loss at 79th iteration 52.990415874468596\n",
      "loss at 80th iteration 52.990415874468596\n",
      "loss at 81th iteration 52.990415874468596\n",
      "loss at 82th iteration 52.990415874468596\n",
      "loss at 83th iteration 52.990415874468596\n",
      "loss at 84th iteration 52.990415874468596\n",
      "loss at 85th iteration 52.990415874468596\n",
      "loss at 86th iteration 52.990415874468596\n",
      "loss at 87th iteration 52.990415874468596\n",
      "loss at 88th iteration 52.990415874468596\n",
      "loss at 89th iteration 52.990415874468596\n",
      "loss at 90th iteration 52.990415874468596\n",
      "loss at 91th iteration 52.990415874468596\n",
      "loss at 92th iteration 52.990415874468596\n",
      "loss at 93th iteration 52.990415874468596\n",
      "loss at 94th iteration 52.990415874468596\n",
      "loss at 95th iteration 52.990415874468596\n",
      "loss at 96th iteration 52.990415874468596\n",
      "loss at 97th iteration 52.990415874468596\n",
      "loss at 98th iteration 52.990415874468596\n",
      "loss at 99th iteration 52.990415874468596\n",
      "final weights: 0.046148698970806555\n"
     ]
    }
   ],
   "source": [
    "w1 = gradient_descent(-1,0.0001,100,curr_data)\n",
    "print(\"final weights:\", w1)"
   ]
  },
  {
   "cell_type": "markdown",
   "id": "67cf217d",
   "metadata": {},
   "source": [
    "# #Observations"
   ]
  },
  {
   "cell_type": "markdown",
   "id": "849459d5",
   "metadata": {},
   "source": [
    "<br>1.The loss is decreasing for both the functions really well when we had taken a learning rate =0.0001.if we take more that that it started oscillating between minimum.\n",
    "<br>2. But the final loss of the correct data will tend to 3. where as final loss of the corrupt data will be tending a much larger value 53 as seen above. since some of the data is corrrupt and since our data set is small,we always get more loss compared to the normal where all data is perfectly correct.\n",
    "\n"
   ]
  },
  {
   "cell_type": "code",
   "execution_count": null,
   "id": "1fa8a644",
   "metadata": {},
   "outputs": [],
   "source": []
  }
 ],
 "metadata": {
  "kernelspec": {
   "display_name": "Python 3 (ipykernel)",
   "language": "python",
   "name": "python3"
  },
  "language_info": {
   "codemirror_mode": {
    "name": "ipython",
    "version": 3
   },
   "file_extension": ".py",
   "mimetype": "text/x-python",
   "name": "python",
   "nbconvert_exporter": "python",
   "pygments_lexer": "ipython3",
   "version": "3.9.7"
  }
 },
 "nbformat": 4,
 "nbformat_minor": 5
}
